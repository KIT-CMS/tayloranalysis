{
 "cells": [
  {
   "cell_type": "code",
   "execution_count": 2,
   "metadata": {},
   "outputs": [],
   "source": [
    "import tayloranalysis as ta\n",
    "import torch"
   ]
  },
  {
   "cell_type": "code",
   "execution_count": 3,
   "metadata": {},
   "outputs": [],
   "source": [
    "# define class for simple polynom   \n",
    "class Polynom(torch.nn.Module):\n",
    "    def __init__(self):\n",
    "        torch.nn.Module.__init__(self)\n",
    "\n",
    "    def forward(self, x):\n",
    "        y = x[:,1]\n",
    "        x = x[:,0]\n",
    "        return x*y + x * y**2 + y**3"
   ]
  },
  {
   "cell_type": "markdown",
   "metadata": {},
   "source": [
    "Implemented polynomial function:\n",
    "$$f(x,y) = xy+xy^2+y^3$$ "
   ]
  },
  {
   "cell_type": "code",
   "execution_count": 4,
   "metadata": {},
   "outputs": [],
   "source": [
    "# initialize model and extend it with the taylor analysis module\n",
    "# since we will later use a single point for the taylor expansion, the reduce function is arbitrary\n",
    "model = Polynom()\n",
    "model = ta.extend_model(model, reduce_function=torch.mean)"
   ]
  },
  {
   "cell_type": "markdown",
   "metadata": {},
   "source": [
    "Remember the taylor series for a function $f$ at point $a$:\n",
    "$$f(x, y) = \\sum_{m=0}^{\\infty} \\sum_{n=0}^{\\infty} \\frac{1}{m!n!} \\left[\\frac{\\partial^{m+n}f}{\\partial x^m \\partial y^n}(x, y)(x-a)^m(y-b)^n\\right]$$\n",
    "\n",
    "with the derivative orders $m$, $n$ w.r.t. the input variables $x$ and $y$.\n",
    "\n",
    "\n",
    "The corresponding taylor coefficients are \n",
    "$$\\mathrm{TC}_\\mathrm{m,n}(x,y) = \\frac{1}{m!n!} \\frac{\\partial^{m+n}f}{\\partial x^m \\partial y^n}(x, y)$$"
   ]
  },
  {
   "cell_type": "code",
   "execution_count": 5,
   "metadata": {},
   "outputs": [],
   "source": [
    "# taylor coefficients to look at\n",
    "combinations = [[0], [0,0], [0,1,1], [1], [0,1]]\n",
    "# input point with x and y component\n",
    "xy = torch.tensor([[3,2]]).float()"
   ]
  },
  {
   "cell_type": "code",
   "execution_count": 6,
   "metadata": {},
   "outputs": [
    {
     "name": "stdout",
     "output_type": "stream",
     "text": [
      "for (x,y) = (3.0,2.0) are: \n",
      "\tTC_1,0(x,y) = 6.0\n",
      "\tTC_2,0(x,y) = 0.0\n",
      "\tTC_1,2(x,y) = 1.0\n",
      "\tTC_0,1(x,y) = 27.0\n",
      "\tTC_1,1(x,y) = 5.0\n"
     ]
    }
   ],
   "source": [
    "print(f\"for (x,y) = ({xy[0][0]},{xy[0][1]}) are: \")\n",
    "for coeff in combinations:\n",
    "    # determine derivation orders\n",
    "    xorder = coeff.count(0)\n",
    "    yorder = coeff.count(1)\n",
    "    # compute tangent coefficient based on xy\n",
    "    tc = model.get_tc(xy, [coeff])\n",
    "    tc = list(tc.values())[0]\n",
    "    # print result\n",
    "    print(f\"\\tTC_{xorder},{yorder}(x,y) = {tc}\")"
   ]
  }
 ],
 "metadata": {
  "kernelspec": {
   "display_name": "tcs",
   "language": "python",
   "name": "python3"
  },
  "language_info": {
   "codemirror_mode": {
    "name": "ipython",
    "version": 3
   },
   "file_extension": ".py",
   "mimetype": "text/x-python",
   "name": "python",
   "nbconvert_exporter": "python",
   "pygments_lexer": "ipython3",
   "version": "3.8.17"
  }
 },
 "nbformat": 4,
 "nbformat_minor": 2
}
