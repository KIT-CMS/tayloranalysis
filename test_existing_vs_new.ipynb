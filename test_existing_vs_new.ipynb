{
 "cells": [
  {
   "cell_type": "code",
   "execution_count": 1,
   "metadata": {},
   "outputs": [],
   "source": [
    "from typing import Tuple, Callable\n",
    "import torch as t\n",
    "from NewTaylorAnalysisBase import model_extension\n",
    "from tayloranalysis.cls import TaylorAnalysis\n",
    "import numpy as np\n",
    "from itertools import product as prod\n",
    "from pprint import pprint"
   ]
  },
  {
   "cell_type": "code",
   "execution_count": 2,
   "metadata": {},
   "outputs": [],
   "source": [
    "class SimpleModel(t.nn.Module):\n",
    "    def __init__(\n",
    "        self,\n",
    "        input_dim: int,\n",
    "        output_dim: int,\n",
    "        hidden_nodes: Tuple[int] = (100,),\n",
    "        layer_activation: Callable = t.nn.ReLU,\n",
    "        final_activation: Callable = t.nn.Sigmoid,\n",
    "    ) -> None:\n",
    "        super(SimpleModel, self).__init__()\n",
    "\n",
    "        self.layers = t.nn.ModuleList([t.nn.Linear(input_dim, hidden_nodes[0])])\n",
    "        self.layers.extend([t.nn.Linear(hidden_nodes[i], n) for i, n in enumerate(hidden_nodes[1:])])\n",
    "        self.layers.append(t.nn.Linear(hidden_nodes[-1], output_dim))\n",
    "\n",
    "        self.layer_activation = layer_activation()\n",
    "        self.final_activation = final_activation()\n",
    "\n",
    "    def forward(self, x: t.Tensor) -> t.Tensor:\n",
    "        for layer in self.layers[:-1]:\n",
    "            x = self.layer_activation(layer(x))\n",
    "        x = self.final_activation(self.layers[-1](x))\n",
    "        return x"
   ]
  },
  {
   "cell_type": "code",
   "execution_count": 3,
   "metadata": {},
   "outputs": [],
   "source": [
    "t.manual_seed(19)\n",
    "model = SimpleModel(3, 1)"
   ]
  },
  {
   "cell_type": "code",
   "execution_count": 4,
   "metadata": {},
   "outputs": [],
   "source": [
    "# currently used wrapper for the extension\n",
    "benchmark_model = TaylorAnalysis(model, apply_abs=True, reduction=\"mean\")\n",
    "\n",
    "# new approach: Add only tc_nth_order, tc_{first, second, third}_order and tc_reduce to model \n",
    "model_extension(model, reduction=\"abs mean\")"
   ]
  },
  {
   "cell_type": "code",
   "execution_count": 5,
   "metadata": {},
   "outputs": [],
   "source": [
    "# Compare results on:\n",
    "t.manual_seed(19)\n",
    "X = t.rand((10, 3))\n",
    "X_idx = [0, 1, 2]"
   ]
  },
  {
   "cell_type": "code",
   "execution_count": 6,
   "metadata": {},
   "outputs": [
    {
     "name": "stdout",
     "output_type": "stream",
     "text": [
      "{(0,): array([0.03742455], dtype=float32),\n",
      " (1,): array([0.03745043], dtype=float32),\n",
      " (2,): array([0.04474961], dtype=float32)}\n"
     ]
    }
   ],
   "source": [
    "first_order_benchmark = benchmark_model.first_order(X)\n",
    "first_order = model.tc_first_order(X, X_idx)\n",
    "for i in X_idx:\n",
    "    assert np.all(np.isclose(first_order_benchmark[i], first_order[(i,)]))\n",
    "pprint(first_order)"
   ]
  },
  {
   "cell_type": "code",
   "execution_count": 7,
   "metadata": {},
   "outputs": [
    {
     "name": "stdout",
     "output_type": "stream",
     "text": [
      "{(0, 0): array([0.00013891], dtype=float32),\n",
      " (0, 1): array([0.00023917], dtype=float32),\n",
      " (0, 2): array([0.00030635], dtype=float32),\n",
      " (1, 1): array([0.00012863], dtype=float32),\n",
      " (1, 2): array([0.00033262], dtype=float32),\n",
      " (2, 2): array([0.00022999], dtype=float32)}\n"
     ]
    }
   ],
   "source": [
    "second_order = model.tc_second_order(X, X_idx, X_idx)\n",
    "for i, j in {tuple(sorted(list(it))) for it in prod(X_idx, X_idx)}:\n",
    "    second_order_benchmark = benchmark_model.second_order(X, i)[j]\n",
    "    assert np.all(np.isclose(second_order_benchmark, second_order[(i, j)]))\n",
    "pprint(second_order)"
   ]
  },
  {
   "cell_type": "code",
   "execution_count": 8,
   "metadata": {},
   "outputs": [
    {
     "name": "stdout",
     "output_type": "stream",
     "text": [
      "Not equal results in: [(0, 1, 2)]\n",
      "{(0, 0, 0): array([8.924161e-05], dtype=float32),\n",
      " (0, 0, 1): array([0.00023364], dtype=float32),\n",
      " (0, 0, 2): array([0.00022128], dtype=float32),\n",
      " (0, 1, 1): array([0.00024527], dtype=float32),\n",
      " (0, 1, 2): array([0.00046847], dtype=float32),\n",
      " (0, 2, 2): array([0.00029219], dtype=float32),\n",
      " (1, 1, 1): array([9.5188596e-05], dtype=float32),\n",
      " (1, 1, 2): array([0.00027656], dtype=float32),\n",
      " (1, 2, 2): array([0.00034676], dtype=float32),\n",
      " (2, 2, 2): array([0.00016722], dtype=float32)}\n"
     ]
    }
   ],
   "source": [
    "third_order = model.tc_third_order(X, X_idx, X_idx, X_idx)\n",
    "not_equal_idx = []\n",
    "for i, j, k in {tuple(sorted(list(it))) for it in prod(X_idx, X_idx, X_idx)}:\n",
    "    third_order_benchmark = benchmark_model.third_order(X, i, j)[k]\n",
    "    try:\n",
    "        assert np.all(np.isclose(third_order_benchmark, third_order[(i, j, k)]))\n",
    "    except AssertionError:\n",
    "        not_equal_idx.append((i, j, k))\n",
    "print(f\"Not equal results in: {not_equal_idx}\")\n",
    "pprint(third_order)"
   ]
  },
  {
   "cell_type": "code",
   "execution_count": 9,
   "metadata": {},
   "outputs": [
    {
     "name": "stdout",
     "output_type": "stream",
     "text": [
      "{(0, 1, 2): array([7.807805e-05], dtype=float32),\n",
      " (0, 2, 1): array([7.807803e-05], dtype=float32),\n",
      " (1, 0, 2): array([7.807805e-05], dtype=float32),\n",
      " (1, 2, 0): array([7.807803e-05], dtype=float32),\n",
      " (2, 0, 1): array([7.807803e-05], dtype=float32),\n",
      " (2, 1, 0): array([7.807803e-05], dtype=float32)}\n"
     ]
    }
   ],
   "source": [
    "pprint(\n",
    "    {\n",
    "        idx: tc \n",
    "        for idx, tc in model.tc_third_order(X, 0, 1, 2, combine_permutations=False).items()\n",
    "        if all(sub_idx in idx for sub_idx in (0, 1, 2))\n",
    "    }\n",
    ")"
   ]
  },
  {
   "cell_type": "code",
   "execution_count": 10,
   "metadata": {},
   "outputs": [],
   "source": [
    "assert np.isclose(\n",
    "    model.tc_third_order(X, 0, 1, 2, combine_permutations=True)[(0, 1, 2)] / 6,\n",
    "    benchmark_model.third_order(X, 0, 1)[2],\n",
    ")\n",
    "\n",
    "assert np.isclose(\n",
    "    model.tc_third_order(X, 0, 1, 2, combine_permutations=False)[(0, 1, 2)],\n",
    "    benchmark_model.third_order(X, 0, 1)[2],\n",
    ")"
   ]
  }
 ],
 "metadata": {
  "kernelspec": {
   "display_name": "Python 3",
   "language": "python",
   "name": "python3"
  },
  "language_info": {
   "codemirror_mode": {
    "name": "ipython",
    "version": 3
   },
   "file_extension": ".py",
   "mimetype": "text/x-python",
   "name": "python",
   "nbconvert_exporter": "python",
   "pygments_lexer": "ipython3",
   "version": "3.8.10"
  },
  "orig_nbformat": 4,
  "vscode": {
   "interpreter": {
    "hash": "31f2aee4e71d21fbe5cf8b01ff0e069b9275f58929596ceb00d14d90e3e16cd6"
   }
  }
 },
 "nbformat": 4,
 "nbformat_minor": 2
}
