{
 "cells": [
  {
   "cell_type": "markdown",
   "metadata": {},
   "source": [
    "# Testing the TaylorAnalysis Framework\n",
    "\n",
    "In this notebook we will demonstrate the correctness of the taylorcoefficients computed by the TaylorAnalysis based on a simple example."
   ]
  },
  {
   "cell_type": "code",
   "execution_count": 1,
   "metadata": {},
   "outputs": [],
   "source": [
    "import tayloranalysis as ta\n",
    "import torch"
   ]
  },
  {
   "cell_type": "markdown",
   "metadata": {},
   "source": [
    "First setup a simple polynomial function \n",
    "\n",
    "$$f(x,y) = xy+xy^2+y^3$$ \n",
    "\n",
    "Since the TaylorAnalysis uses `torch`, we'll define the polynomial within a `torch.nn.Module`."
   ]
  },
  {
   "cell_type": "code",
   "execution_count": 2,
   "metadata": {},
   "outputs": [],
   "source": [
    "class Polynom(torch.nn.Module):\n",
    "    def __init__(self):\n",
    "        torch.nn.Module.__init__(self)\n",
    "\n",
    "    def forward(self, point):\n",
    "        y = point[:,1]\n",
    "        x = point[:,0]\n",
    "        return x*y + x * y**2 + y**3"
   ]
  },
  {
   "cell_type": "markdown",
   "metadata": {},
   "source": [
    "Initialize model and extend it with the TaylorAnalysis module."
   ]
  },
  {
   "cell_type": "code",
   "execution_count": 3,
   "metadata": {},
   "outputs": [],
   "source": [
    "model = Polynom()\n",
    "model = ta.extend_model(model)"
   ]
  },
  {
   "cell_type": "markdown",
   "metadata": {},
   "source": [
    "Remember the taylor series for a function $f(x, y)$ at point $a$:\n",
    "$$f(x, y) = \\sum_{m=0}^{\\infty} \\sum_{n=0}^{\\infty} \\frac{1}{m!n!} \\left[\\frac{\\partial^{m+n}f}{\\partial x^m \\partial y^n}(x, y)(x-a)^m(y-b)^n\\right]$$\n",
    "\n",
    "with the derivative orders $m$, $n$ w.r.t. the input variables $x$ and $y$.\n",
    "\n",
    "\n",
    "The corresponding taylor coefficients are \n",
    "$$\\mathrm{TC}_\\mathrm{m,n}(x,y) = \\frac{1}{m!n!} \\frac{\\partial^{m+n}f}{\\partial x^m \\partial y^n}(x, y)$$\n",
    "\n"
   ]
  },
  {
   "cell_type": "markdown",
   "metadata": {},
   "source": [
    "Now choose some taylorcoefficients we want to look at and define a point to expand around:"
   ]
  },
  {
   "cell_type": "code",
   "execution_count": 4,
   "metadata": {},
   "outputs": [],
   "source": [
    "combinations = [(0,), (0,0), (0,1,1), (1,), (0,1), (0,0,1), (1,1,1)]\n",
    "point = torch.tensor([[3,2]]).float()"
   ]
  },
  {
   "cell_type": "markdown",
   "metadata": {},
   "source": [
    "Loop over combinations and determine the corresponding taylorcoefficients.\n",
    "As reduction method we will use the default identity function."
   ]
  },
  {
   "cell_type": "code",
   "execution_count": 5,
   "metadata": {},
   "outputs": [
    {
     "name": "stdout",
     "output_type": "stream",
     "text": [
      "TC₁₀(3,2) = 6.0\n",
      "TC₂₀(3,2) = 0.0\n",
      "TC₁₂(3,2) = 1.0\n",
      "TC₀₁(3,2) = 27.0\n",
      "TC₁₁(3,2) = 5.0\n",
      "TC₂₁(3,2) = 0.0\n",
      "TC₀₃(3,2) = 1.0\n"
     ]
    }
   ],
   "source": [
    "for combi in combinations:\n",
    "    \n",
    "    # compute taylorcoefficient based on point\n",
    "    tc = model.get_tc(point, [combi])\n",
    "    tc = list(tc.values())[0]\n",
    "    \n",
    "    # determine derivation orders\n",
    "    xorder = combi.count(0)\n",
    "    yorder = combi.count(1)\n",
    "\n",
    "    # print result\n",
    "    print(f\"TC{chr(8320 + xorder)}{chr(8320 + yorder)}({int(point[0][0])},{int(point[0][1])}) = {float(tc)}\")"
   ]
  },
  {
   "cell_type": "markdown",
   "metadata": {},
   "source": [
    "This can be manually compared with the corresponding derivations of\n",
    "\n",
    "$$f(x,y) = xy+xy^2+y^3$$ \n",
    "\n",
    "Therefore holds for TC₁₀(3,2):\n",
    "\n",
    "$$\n",
    "\\begin{align}\n",
    "\\mathrm{TC}_\\mathrm{1,0}(3,2) &= \\frac{1}{1!0!} \\frac{\\partial^{1+0}f}{\\partial x^1 \\partial y^0}(x, y)|_{x=3, y=2} \\\\\n",
    "&= \\frac{\\partial}{\\partial x}f(x, y) |_{x=3, y=2} \\\\\n",
    "&= \\frac{\\partial}{\\partial x} \\left(xy+xy^2+y^3\\right)|_{x=3, y=2} \\\\\n",
    "&= y+y^2|_{x=3, y=2} \\\\\n",
    "&= 6\n",
    "\\end{align}\n",
    "$$\n",
    "\n",
    "... and same for remaining.\n"
   ]
  }
 ],
 "metadata": {
  "kernelspec": {
   "display_name": "tcs",
   "language": "python",
   "name": "python3"
  },
  "language_info": {
   "codemirror_mode": {
    "name": "ipython",
    "version": 3
   },
   "file_extension": ".py",
   "mimetype": "text/x-python",
   "name": "python",
   "nbconvert_exporter": "python",
   "pygments_lexer": "ipython3",
   "version": "3.8.17"
  }
 },
 "nbformat": 4,
 "nbformat_minor": 2
}
